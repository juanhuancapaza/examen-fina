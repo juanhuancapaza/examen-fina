{
 "cells": [
  {
   "cell_type": "markdown",
   "source": [
    "# PROBLEMAS DIVERSOS"
   ],
   "metadata": {}
  },
  {
   "cell_type": "markdown",
   "source": [
    "<h3>1.</h3>\n",
    "Imagina que acabas de abrir una nueva cuenta de ahorros que te ofrece el 4% de interés al año. Estos ahorros debido a intereses, que no se cobran hasta finales de año, se te añaden al balance final de tu cuenta de ahorros. Escribir un programa que comience leyendo la cantidad de dinero depositada en la cuenta de ahorros, introducida por el usuario. Después el programa debe calcular y mostrar por pantalla la cantidad de ahorros tras el primer, segundo y tercer años. Redondear cada cantidad a dos decimales."
   ],
   "metadata": {}
  },
  {
   "cell_type": "code",
   "execution_count": null,
   "source": [
    "inversion = float(input(\"Introduce la inversión inicial: \"))\r\n",
    "interes = 0.04\r\n",
    "balance1 = inversion * (1 + interes)\r\n",
    "print(\"Balance tras el primer año:\" + str(round(balance1, 2)))\r\n",
    "balance2 = balance1 * (1 + interes)\r\n",
    "print(\"Balance tras el segundo año:\" + str(round(balance2, 2)))\r\n",
    "balance3 = balance2 * (1 + interes)\r\n",
    "print(\"Balance tras el tercer año:\" + str(round(balance3, 2)))"
   ],
   "outputs": [],
   "metadata": {}
  },
  {
   "cell_type": "markdown",
   "source": [
    "### 2.\n",
    "Escriba un programa que pida los coeficientes de una ecuación de segundo grado <code>(a x² + b x + c = 0)</code> y escriba la solución.\n",
    "\n",
    "Se recuerda que una ecuación de segundo grado puede no tener solución, tener una solución única, tener dos soluciones o que todos los números sean solución."
   ],
   "metadata": {}
  },
  {
   "cell_type": "markdown",
   "source": [
    "<img src='https://i.pinimg.com/originals/d3/f7/01/d3f701528ad56ce0f5a98d7c91722fd7.png'>"
   ],
   "metadata": {}
  },
  {
   "cell_type": "markdown",
   "source": [
    "Su programa debe indicar:\n",
    "- En caso la ecuación cuadrática tenga solución real, su programa debe brindar la solución\n",
    "- En caso su ecuación no tenga solución real, su programa debe brindar un mensaje que diga \"Ecuación no presenta solución real\""
   ],
   "metadata": {}
  },
  {
   "cell_type": "code",
   "execution_count": null,
   "source": [
    "from math import sqrt\r\n",
    "\r\n",
    "A = int(input(\"Ingrese el coeficiente de la variable cuadrática\\n\"))\r\n",
    "B = int(input(\"Ingrese el coeficiente de la variable lineal\\n\"))\r\n",
    "C = int(input(\"Ingrese el término independiente\\n\"))\r\n",
    "x1= 0\r\n",
    "x2= 0\r\n",
    "\r\n",
    "if((B**2)-4*A*C) < 0:\r\n",
    "  print(\"La solución de la ecuación es con números complejos\")\r\n",
    "else:\r\n",
    "  x1 = (-B+sqrt(B**2-(4*A*C)))/(2*A)\r\n",
    "  x2 = (-B-sqrt(B**2-(4*A*C)))/(2*A)\r\n",
    "  print(\"Las soluciones de la ecuación son:\")\r\n",
    "  print(x1)\r\n",
    "  print(x2)"
   ],
   "outputs": [],
   "metadata": {}
  }
 ],
 "metadata": {
  "kernelspec": {
   "display_name": "Python 3",
   "language": "python",
   "name": "python3"
  },
  "language_info": {
   "codemirror_mode": {
    "name": "ipython",
    "version": 3
   },
   "file_extension": ".py",
   "mimetype": "text/x-python",
   "name": "python",
   "nbconvert_exporter": "python",
   "pygments_lexer": "ipython3",
   "version": "3.8.3"
  }
 },
 "nbformat": 4,
 "nbformat_minor": 4
}