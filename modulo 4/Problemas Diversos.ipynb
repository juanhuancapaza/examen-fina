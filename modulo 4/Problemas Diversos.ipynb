{
 "cells": [
  {
   "cell_type": "markdown",
   "source": [
    "# PROBLEMAS DIVERSOS"
   ],
   "metadata": {}
  },
  {
   "cell_type": "markdown",
   "source": [
    "<h3>1. Ficheros</h3>\r\n",
    "Escribir una función que pida un número entero entre 1 y 10 y guarde en un fichero con el nombre tabla-n.txt la tabla de multiplicar de ese número, done n es el número introducido."
   ],
   "metadata": {}
  },
  {
   "cell_type": "code",
   "execution_count": null,
   "source": [
    "n = int(input('Introduce un número entero entre 1 y 10: '))\r\n",
    "file_name = 'tabla-' + str(n) + '.txt'\r\n",
    "f = open(file_name, 'w')\r\n",
    "for i in range(1, 11):\r\n",
    "    f.write(str(n) + ' x ' + str(i) + ' = ' + str(n * i) + '\\n')\r\n",
    "f.close()"
   ],
   "outputs": [],
   "metadata": {}
  },
  {
   "cell_type": "markdown",
   "source": [
    "<h3>2.</h3>\r\n",
    "Escribir una función que pida un número entero entre 1 y 10, lea el fichero tabla-n.txt con la tabla de multiplicar de ese número, done n es el número introducido, y la muestre por pantalla. Si el fichero no existe debe mostrar un mensaje por pantalla informando de ello."
   ],
   "metadata": {}
  },
  {
   "cell_type": "code",
   "execution_count": null,
   "source": [
    "n = int(input('Introduce un número entero entre 1 y 10: '))file_name = 'tabla-' + str(n) + '.txt'try:f = open(file_name, 'r')except FileNotFoundError:print('No existe el fichero con la tabla del', n)else:print(f.read())"
   ],
   "outputs": [],
   "metadata": {}
  },
  {
   "cell_type": "code",
   "execution_count": null,
   "source": [
    "n = int(input('Introduce un número entero entre 1 y 10: '))m = int(input('Introduce otro número entero entre 1 y 10: '))file_name = 'tabla-' + str(n) + '.txt'try:f = open(file_name, 'r')except FileNotFoundError:print('No existe el fichero con la tabla del ', n)else:lines = f.readlines()print(lines[m - 1])"
   ],
   "outputs": [],
   "metadata": {}
  },
  {
   "cell_type": "markdown",
   "source": [
    "<h3>3.</h3>\n",
    "\n",
    "Escribir una función que pida dos números n y m entre 1 y 10, lea el fichero tabla-n.txt con la tabla de multiplicar de ese número, y muestre por pantalla la línea m del fichero. Si el fichero no existe debe mostrar un mensaje por pantalla informando de ello."
   ],
   "metadata": {}
  },
  {
   "cell_type": "code",
   "execution_count": null,
   "source": [
    "n = int(input('Introduce un número entero entre 1 y 10: '))m = int(input('Introduce otro número entero entre 1 y 10: '))file_name = 'tabla-' + str(n) + '.txt'try:f = open(file_name, 'r')except FileNotFoundError:print('No existe el fichero con la tabla del ', n)else:lines = f.readlines()print(lines[m - 1])"
   ],
   "outputs": [],
   "metadata": {}
  },
  {
   "cell_type": "markdown",
   "source": [
    "<h3> Expresiones Regulares</h3>\n",
    "sda\n"
   ],
   "metadata": {}
  },
  {
   "cell_type": "code",
   "execution_count": 1,
   "source": [
    "from modulo import datos\r\n",
    "import re"
   ],
   "outputs": [],
   "metadata": {}
  },
  {
   "cell_type": "code",
   "execution_count": 2,
   "source": [
    "path = './data/re/short_tweets.csv'"
   ],
   "outputs": [],
   "metadata": {}
  },
  {
   "cell_type": "markdown",
   "source": [
    "<h3>1.</h3>\n",
    "\n",
    "Escriba una expresión regular que encuentre todas las coincidencias que sigan el siguiente patrón.\n",
    "\n",
    "Ej. <code>@robot3!</code>"
   ],
   "metadata": {}
  },
  {
   "cell_type": "code",
   "execution_count": null,
   "source": [
    "# Cadena entrada\r\n",
    "s = '@robot9! @robot4& I have a good feeling that the show isgoing to be amazing! @robot9$ @robot7%'\r\n",
    "s"
   ],
   "outputs": [],
   "metadata": {}
  },
  {
   "cell_type": "code",
   "execution_count": null,
   "source": [],
   "outputs": [],
   "metadata": {}
  },
  {
   "cell_type": "markdown",
   "source": [
    "<h3>2.</h3>\n",
    "Escriba una expresión regular para cada caso: \n",
    "\n",
    "- todos los usuarios que sigan el siguente patron. <code>User_mentions:9</code>\n",
    "\n",
    "- encuentre los numero de likes: <code>likes: 5</code>\n",
    "\n",
    "- que permita encontrar el numero de retweets. <code>number of retweets: 4</code>"
   ],
   "metadata": {}
  },
  {
   "cell_type": "code",
   "execution_count": null,
   "source": [
    "# Cadena entrada\r\n",
    "s = \"Unfortunately one of those moments wasn't a giant squid monster. User_mentions:2, likes: 9, number of retweets: 7\"\r\n",
    "s"
   ],
   "outputs": [],
   "metadata": {}
  },
  {
   "cell_type": "code",
   "execution_count": null,
   "source": [],
   "outputs": [],
   "metadata": {}
  },
  {
   "cell_type": "markdown",
   "source": [
    "<h3>3.</h3>\n",
    "\n",
    "Escriba una expresión regular que encuente los nombres de archivos txt en la cadena:\n",
    "\n",
    "    - Nombre de archivo txt siempre inicia al principio de la cadena\n",
    "    - Siempre comienzan con una secuencia de 2 o 3 vocales mayúsculas o minúsculas (a e i o u).\n",
    "    - Ellos siempre terminan con el final del txt.\n",
    "\n"
   ],
   "metadata": {}
  },
  {
   "cell_type": "code",
   "execution_count": 5,
   "source": [
    "analisis_sentimientos = datos.read_pandas(path,780,782)"
   ],
   "outputs": [],
   "metadata": {}
  },
  {
   "cell_type": "code",
   "execution_count": 6,
   "source": [
    "#regex = r\"\"  # complete aqui\r\n",
    "for tweet in analisis_sentimientos:\r\n",
    "    print(tweet)\r\n",
    "    \r\n",
    "    # Encuentre todos los casos\r\n",
    "    #print(re.findall(regex, tweet))"
   ],
   "outputs": [
    {
     "output_type": "stream",
     "name": "stdout",
     "text": [
      "AIshadowhunters.txt aaaaand back to my literature review. At least i have a friendly cup of coffee to keep me company\n",
      "ouMYTAXES.txt I am worried that I won't get my $900 even though I paid tax last year\n"
     ]
    }
   ],
   "metadata": {}
  },
  {
   "cell_type": "code",
   "execution_count": null,
   "source": [],
   "outputs": [],
   "metadata": {}
  },
  {
   "cell_type": "markdown",
   "source": [
    "<h3>4.</h3>\n",
    "\n",
    "Escriba una expresión regular que valide una lista de correos electrónicos\n",
    "- Primera parte:\n",
    "    - Caracteres en mayuscula y minúscula\n",
    "    - Números\n",
    "    - Caracteres especiales: !, #, %, &, *, $, .\n",
    "- Debe contener @\n",
    "- Dominio:\n",
    "    - Puede ser cualquier conjunto de caracteres\n",
    "    - Solo puede terminar con <code>.com</code>\n",
    "\n",
    "ENTRADA:\n",
    "\n",
    "- ['n.john.smith@gmail.com', '87victory@hotmail.com', '!#mary-=@msca.net']\n",
    "    \n",
    "SALIDA:\n",
    "\n",
    "- The email <code>n.john.smith@gmail.com</code> is a valid email\n",
    "- The email <code>87victory@hotmail.com</code> is a valid email\n",
    "- The email <code>!#mary-=@msca.net</code> is invalid\n"
   ],
   "metadata": {}
  },
  {
   "cell_type": "code",
   "execution_count": null,
   "source": [
    "# Escriba una expresión regular para validar un correo\r\n",
    "regex = r\"\"\r\n",
    "\r\n",
    "emails = ['n.john.smith@gmail.com', '87victory@hotmail.com', '!#mary-=@msca.net']\r\n",
    "for example in emails:\r\n",
    "    # Match the regex to the string\r\n",
    "    if re.match(regex, example):\r\n",
    "        # Complete the format method to print out the result\r\n",
    "        print(\"The email {email_example} is a valid email\".format(email_example=example))\r\n",
    "    else:\r\n",
    "        print(\"The email {email_example} is invalid\".format(email_example=example))   "
   ],
   "outputs": [],
   "metadata": {}
  }
 ],
 "metadata": {
  "kernelspec": {
   "display_name": "Python 3",
   "language": "python",
   "name": "python3"
  },
  "language_info": {
   "codemirror_mode": {
    "name": "ipython",
    "version": 3
   },
   "file_extension": ".py",
   "mimetype": "text/x-python",
   "name": "python",
   "nbconvert_exporter": "python",
   "pygments_lexer": "ipython3",
   "version": "3.8.5"
  }
 },
 "nbformat": 4,
 "nbformat_minor": 4
}